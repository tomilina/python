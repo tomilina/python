{
 "cells": [
  {
   "cell_type": "code",
   "execution_count": 1,
   "metadata": {},
   "outputs": [
    {
     "name": "stdout",
     "output_type": "stream",
     "text": [
      "Call #1\n",
      "\n",
      "f1\n",
      "\n",
      "---------------\n",
      "Call #2\n",
      "\n",
      "f1\n",
      "\n",
      "---------------\n",
      "Call #1\n",
      "\n",
      "f2\n",
      "\n",
      "---------------\n",
      "Call #2\n",
      "\n",
      "f2\n",
      "\n",
      "---------------\n",
      "Call #3\n",
      "\n",
      "f2\n",
      "\n",
      "---------------\n"
     ]
    }
   ],
   "source": [
    "def counter(func):    \n",
    "    def wrapper():\n",
    "        wrapper.n+=1\n",
    "        print(\"Call #{}\\n\".format(wrapper.n))\n",
    "        func()\n",
    "        print()        \n",
    "        print('-'*15)\n",
    "    wrapper.n=0\n",
    "    return wrapper\n",
    "\n",
    "\n",
    "def f0():\n",
    "    print('f1')\n",
    "    \n",
    "f1 = counter(f0)\n",
    "    \n",
    "\n",
    "@counter\n",
    "def f2():\n",
    "    print('f2')\n",
    "    \n",
    "f1()\n",
    "f1()\n",
    "f2()\n",
    "f2()\n",
    "f2()\n"
   ]
  }
 ],
 "metadata": {
  "kernelspec": {
   "display_name": "Python 3",
   "language": "python",
   "name": "python3"
  },
  "language_info": {
   "codemirror_mode": {
    "name": "ipython",
    "version": 3
   },
   "file_extension": ".py",
   "mimetype": "text/x-python",
   "name": "python",
   "nbconvert_exporter": "python",
   "pygments_lexer": "ipython3",
   "version": "3.6.5"
  }
 },
 "nbformat": 4,
 "nbformat_minor": 2
}
